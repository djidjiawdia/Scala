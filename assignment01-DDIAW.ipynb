{
 "cells": [
  {
   "cell_type": "markdown",
   "id": "851b1777",
   "metadata": {},
   "source": [
    "# Djiadji DIAW - 220762"
   ]
  },
  {
   "cell_type": "markdown",
   "id": "64ecc3b7",
   "metadata": {},
   "source": [
    "### 1. Fonction PGCD"
   ]
  },
  {
   "cell_type": "code",
   "execution_count": 1,
   "id": "936ae7bd",
   "metadata": {
    "scrolled": true
   },
   "outputs": [
    {
     "data": {
      "text/plain": [
       "defined \u001b[32mfunction\u001b[39m \u001b[36mpgcd\u001b[39m"
      ]
     },
     "execution_count": 1,
     "metadata": {},
     "output_type": "execute_result"
    }
   ],
   "source": [
    "def pgcd(a: Int, b: Int): Int = {\n",
    "    if (b == 0) a else pgcd(b, a%b)\n",
    "}\n"
   ]
  },
  {
   "cell_type": "markdown",
   "id": "0f921614",
   "metadata": {},
   "source": [
    "### 2. Testons la fonction avec les couples (28, 313) et (63, 40)"
   ]
  },
  {
   "cell_type": "code",
   "execution_count": 2,
   "id": "18976603",
   "metadata": {},
   "outputs": [
    {
     "data": {
      "text/plain": [
       "\u001b[36mres1_0\u001b[39m: \u001b[32mInt\u001b[39m = \u001b[32m1\u001b[39m\r\n",
       "\u001b[36mres1_1\u001b[39m: \u001b[32mInt\u001b[39m = \u001b[32m1\u001b[39m"
      ]
     },
     "execution_count": 2,
     "metadata": {},
     "output_type": "execute_result"
    }
   ],
   "source": [
    "pgcd(28, 313)\n",
    "\n",
    "pgcd(63, 40)"
   ]
  },
  {
   "cell_type": "markdown",
   "id": "636cd359",
   "metadata": {},
   "source": [
    "### 3. Fonction de fibonnaci"
   ]
  },
  {
   "cell_type": "code",
   "execution_count": 3,
   "id": "9b79b82b",
   "metadata": {},
   "outputs": [
    {
     "data": {
      "text/plain": [
       "defined \u001b[32mfunction\u001b[39m \u001b[36mfibonnaci\u001b[39m"
      ]
     },
     "execution_count": 3,
     "metadata": {},
     "output_type": "execute_result"
    }
   ],
   "source": [
    "def fibonnaci(n: Int): Int = {\n",
    "    var a = 0\n",
    "    var b = 1\n",
    "    for (i <- 1 to n) {\n",
    "        val sum = a + b\n",
    "        a = b\n",
    "        b = sum\n",
    "    }\n",
    "    a\n",
    "}"
   ]
  },
  {
   "cell_type": "markdown",
   "id": "6f2d70f7",
   "metadata": {},
   "source": [
    "### 4. Testons la fonction avec les entiers 0, 1, 28, 40, 63 et 313"
   ]
  },
  {
   "cell_type": "code",
   "execution_count": 4,
   "id": "15e84c95",
   "metadata": {},
   "outputs": [
    {
     "name": "stdout",
     "output_type": "stream",
     "text": [
      "Fibonnaci de 0 = 0\n",
      "Fibonnaci de 1 = 1\n",
      "Fibonnaci de 28 = 317811\n",
      "Fibonnaci de 40 = 102334155\n",
      "Fibonnaci de 63 = -944741150\n",
      "Fibonnaci de 313 = -1998256175\n"
     ]
    }
   ],
   "source": [
    "println(\"Fibonnaci de 0 = \" + fibonnaci(0))\n",
    "println(\"Fibonnaci de 1 = \" + fibonnaci(1))\n",
    "println(\"Fibonnaci de 28 = \" + fibonnaci(28))\n",
    "println(\"Fibonnaci de 40 = \" + fibonnaci(40))\n",
    "println(\"Fibonnaci de 63 = \" + fibonnaci(63))\n",
    "println(\"Fibonnaci de 313 = \" + fibonnaci(313))"
   ]
  },
  {
   "cell_type": "code",
   "execution_count": null,
   "id": "612b0e5d",
   "metadata": {},
   "outputs": [],
   "source": []
  }
 ],
 "metadata": {
  "kernelspec": {
   "display_name": "Scala",
   "language": "scala",
   "name": "scala"
  },
  "language_info": {
   "codemirror_mode": "text/x-scala",
   "file_extension": ".sc",
   "mimetype": "text/x-scala",
   "name": "scala",
   "nbconvert_exporter": "script",
   "version": "2.12.11"
  }
 },
 "nbformat": 4,
 "nbformat_minor": 5
}
